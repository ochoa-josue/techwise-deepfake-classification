{
 "cells": [
  {
   "cell_type": "markdown",
   "metadata": {},
   "source": [
    "# Deepfake Dataset Preprocessing"
   ]
  },
  {
   "cell_type": "markdown",
   "metadata": {},
   "source": []
  },
  {
   "cell_type": "markdown",
   "metadata": {},
   "source": [
    "### Importing neccesary libraries"
   ]
  },
  {
   "cell_type": "markdown",
   "metadata": {},
   "source": []
  },
  {
   "cell_type": "code",
   "execution_count": 28,
   "metadata": {},
   "outputs": [],
   "source": [
    "import os\n",
    "import zipfile\n",
    "import glob\n",
    "from pathlib import Path\n",
    "import pandas as pd\n",
    "import tensorflow as tf\n",
    "import cv2\n",
    "from tensorflow.keras.models import Sequential\n",
    "from tensorflow.keras.layers import Dense, Flatten"
   ]
  },
  {
   "cell_type": "markdown",
   "metadata": {},
   "source": [
    "### Unzipping the dataset"
   ]
  },
  {
   "cell_type": "code",
   "execution_count": 3,
   "metadata": {},
   "outputs": [],
   "source": [
    "# Path to the dataset\n",
    "zip_file_path = '../datasets/140k_real_and_fake_faces.zip'\n",
    "\n",
    "# Directory to extract the files to\n",
    "extract_to_dir = '../datasets/140k_real_and_fake_faces'\n"
   ]
  },
  {
   "cell_type": "code",
   "execution_count": 4,
   "metadata": {},
   "outputs": [],
   "source": [
    "\n",
    "# Check if the directory to extract to exists, create if it does not\n",
    "if not os.path.exists(extract_to_dir):\n",
    "    os.makedirs(extract_to_dir)\n",
    "\n",
    "# Unzipping the file\n",
    "with zipfile.ZipFile(zip_file_path, 'r') as zip_ref:\n",
    "    zip_ref.extractall(extract_to_dir)"
   ]
  },
  {
   "cell_type": "code",
   "execution_count": 5,
   "metadata": {},
   "outputs": [],
   "source": [
    "main_path = '../datasets/140k_real_and_fake_faces/real_vs_fake/real-vs-fake'"
   ]
  },
  {
   "cell_type": "code",
   "execution_count": 6,
   "metadata": {},
   "outputs": [],
   "source": [
    "train_dir = os.path.join(main_path, 'train')\n",
    "valid_dir = os.path.join(main_path, 'valid')\n",
    "test_dir = os.path.join(main_path, 'test')"
   ]
  },
  {
   "cell_type": "code",
   "execution_count": 7,
   "metadata": {},
   "outputs": [
    {
     "name": "stdout",
     "output_type": "stream",
     "text": [
      "train subdirectories: ['real', 'fake']\n",
      "valid subdirectories: ['real', 'fake']\n",
      "test subdirectories: ['real', 'fake']\n"
     ]
    }
   ],
   "source": [
    "paths = [train_dir, valid_dir, test_dir]\n",
    "for path in paths:\n",
    "    print(f'{os.path.basename(path)} subdirectories: {os.listdir(path)}')"
   ]
  },
  {
   "cell_type": "code",
   "execution_count": 23,
   "metadata": {},
   "outputs": [],
   "source": [
    "def is_image_conforming(image_path, target_size=(256, 256), channels=3):\n",
    "    image = cv2.imread(image_path)\n",
    "    if image is None:\n",
    "        print(f\"Unable to load image: {image_path}\")\n",
    "        return False\n",
    "    h, w, c = image.shape\n",
    "    return (h, w) == target_size and c == channels"
   ]
  },
  {
   "cell_type": "code",
   "execution_count": 24,
   "metadata": {},
   "outputs": [],
   "source": [
    "\n",
    "main_path = '../datasets/140k_real_and_fake_faces/real_vs_fake/real-vs-fake'\n",
    "\n",
    "conforming_images = []\n",
    "non_conforming_images = []"
   ]
  },
  {
   "cell_type": "code",
   "execution_count": 25,
   "metadata": {},
   "outputs": [
    {
     "name": "stdout",
     "output_type": "stream",
     "text": [
      "Number of conforming images: 140000\n",
      "Number of non-conforming images: 0\n"
     ]
    }
   ],
   "source": [
    "\n",
    "for folder in os.listdir(main_path):\n",
    "    folder_path = Path(main_path) / folder\n",
    "    if folder_path.is_dir():\n",
    "        for label in os.listdir(folder_path):\n",
    "            label_path = folder_path / label\n",
    "            if label_path.is_dir():\n",
    "                for img_path in label_path.glob(\"*.jpg\"):\n",
    "                    if is_image_conforming(str(img_path)):\n",
    "                        conforming_images.append({\n",
    "                            \"folder\": folder,\n",
    "                            \"image_path\": str(img_path),\n",
    "                            \"label\": label\n",
    "                        })\n",
    "                    else:\n",
    "                        non_conforming_images.append(str(img_path))"
   ]
  },
  {
   "cell_type": "code",
   "execution_count": 26,
   "metadata": {},
   "outputs": [
    {
     "name": "stdout",
     "output_type": "stream",
     "text": [
      "Number of conforming images: 140000\n",
      "Number of non-conforming images: 0\n"
     ]
    }
   ],
   "source": [
    "# Now, image_records contains info of conforming images\n",
    "# and non_conforming_images contains paths of non-conforming images\n",
    "\n",
    "print(f\"Number of conforming images: {len(conforming_images)}\")\n",
    "print(f\"Number of non-conforming images: {len(non_conforming_images)}\")\n",
    "\n",
    "# Optionally, print or log the non-conforming images\n",
    "for img_path in non_conforming_images:\n",
    "    print(f\"Non-conforming image: {img_path}\")\n"
   ]
  },
  {
   "cell_type": "code",
   "execution_count": 21,
   "metadata": {},
   "outputs": [],
   "source": [
    "# image_records = []\n",
    "\n",
    "# for folder in os.listdir(main_path):\n",
    "#     folder_path = Path(main_path) / folder\n",
    "#     if folder_path.is_dir():\n",
    "#         for label in os.listdir(folder_path):\n",
    "#             label_path = folder_path / label\n",
    "#             if label_path.is_dir():\n",
    "#                 for img_path in label_path.glob(\"*.jpg\"):\n",
    "#                     image_records.append({\n",
    "#                         \"folder\": folder,\n",
    "#                         \"image_path\": str(img_path),\n",
    "#                         \"label\": label\n",
    "#                     })\n"
   ]
  },
  {
   "cell_type": "code",
   "execution_count": 27,
   "metadata": {},
   "outputs": [
    {
     "name": "stdout",
     "output_type": "stream",
     "text": [
      "       folder                                         image_path label\n",
      "0       valid  ../datasets/140k_real_and_fake_faces/real_vs_f...  real\n",
      "1       valid  ../datasets/140k_real_and_fake_faces/real_vs_f...  real\n",
      "2       valid  ../datasets/140k_real_and_fake_faces/real_vs_f...  real\n",
      "3       valid  ../datasets/140k_real_and_fake_faces/real_vs_f...  real\n",
      "4       valid  ../datasets/140k_real_and_fake_faces/real_vs_f...  real\n",
      "...       ...                                                ...   ...\n",
      "139995  train  ../datasets/140k_real_and_fake_faces/real_vs_f...  fake\n",
      "139996  train  ../datasets/140k_real_and_fake_faces/real_vs_f...  fake\n",
      "139997  train  ../datasets/140k_real_and_fake_faces/real_vs_f...  fake\n",
      "139998  train  ../datasets/140k_real_and_fake_faces/real_vs_f...  fake\n",
      "139999  train  ../datasets/140k_real_and_fake_faces/real_vs_f...  fake\n",
      "\n",
      "[140000 rows x 3 columns]\n"
     ]
    }
   ],
   "source": [
    "image_df = pd.DataFrame(conforming_images)\n",
    "print(image_df)"
   ]
  },
  {
   "cell_type": "code",
   "execution_count": 10,
   "metadata": {},
   "outputs": [
    {
     "data": {
      "text/html": [
       "<div>\n",
       "<style scoped>\n",
       "    .dataframe tbody tr th:only-of-type {\n",
       "        vertical-align: middle;\n",
       "    }\n",
       "\n",
       "    .dataframe tbody tr th {\n",
       "        vertical-align: top;\n",
       "    }\n",
       "\n",
       "    .dataframe thead th {\n",
       "        text-align: right;\n",
       "    }\n",
       "</style>\n",
       "<table border=\"1\" class=\"dataframe\">\n",
       "  <thead>\n",
       "    <tr style=\"text-align: right;\">\n",
       "      <th></th>\n",
       "      <th>folder</th>\n",
       "      <th>image_path</th>\n",
       "      <th>label</th>\n",
       "    </tr>\n",
       "  </thead>\n",
       "  <tbody>\n",
       "    <tr>\n",
       "      <th>count</th>\n",
       "      <td>100000</td>\n",
       "      <td>100000</td>\n",
       "      <td>100000</td>\n",
       "    </tr>\n",
       "    <tr>\n",
       "      <th>unique</th>\n",
       "      <td>1</td>\n",
       "      <td>100000</td>\n",
       "      <td>2</td>\n",
       "    </tr>\n",
       "    <tr>\n",
       "      <th>top</th>\n",
       "      <td>train</td>\n",
       "      <td>../datasets/140k_real_and_fake_faces/real_vs_f...</td>\n",
       "      <td>real</td>\n",
       "    </tr>\n",
       "    <tr>\n",
       "      <th>freq</th>\n",
       "      <td>100000</td>\n",
       "      <td>1</td>\n",
       "      <td>50000</td>\n",
       "    </tr>\n",
       "  </tbody>\n",
       "</table>\n",
       "</div>"
      ],
      "text/plain": [
       "        folder                                         image_path   label\n",
       "count   100000                                             100000  100000\n",
       "unique       1                                             100000       2\n",
       "top      train  ../datasets/140k_real_and_fake_faces/real_vs_f...    real\n",
       "freq    100000                                                  1   50000"
      ]
     },
     "execution_count": 10,
     "metadata": {},
     "output_type": "execute_result"
    }
   ],
   "source": [
    "image_df[image_df['folder'] == 'train'].describe()"
   ]
  },
  {
   "cell_type": "markdown",
   "metadata": {},
   "source": []
  },
  {
   "cell_type": "code",
   "execution_count": 11,
   "metadata": {},
   "outputs": [
    {
     "data": {
      "text/html": [
       "<div>\n",
       "<style scoped>\n",
       "    .dataframe tbody tr th:only-of-type {\n",
       "        vertical-align: middle;\n",
       "    }\n",
       "\n",
       "    .dataframe tbody tr th {\n",
       "        vertical-align: top;\n",
       "    }\n",
       "\n",
       "    .dataframe thead th {\n",
       "        text-align: right;\n",
       "    }\n",
       "</style>\n",
       "<table border=\"1\" class=\"dataframe\">\n",
       "  <thead>\n",
       "    <tr style=\"text-align: right;\">\n",
       "      <th></th>\n",
       "      <th>folder</th>\n",
       "      <th>image_path</th>\n",
       "      <th>label</th>\n",
       "    </tr>\n",
       "  </thead>\n",
       "  <tbody>\n",
       "    <tr>\n",
       "      <th>count</th>\n",
       "      <td>20000</td>\n",
       "      <td>20000</td>\n",
       "      <td>20000</td>\n",
       "    </tr>\n",
       "    <tr>\n",
       "      <th>unique</th>\n",
       "      <td>1</td>\n",
       "      <td>20000</td>\n",
       "      <td>2</td>\n",
       "    </tr>\n",
       "    <tr>\n",
       "      <th>top</th>\n",
       "      <td>test</td>\n",
       "      <td>../datasets/140k_real_and_fake_faces/real_vs_f...</td>\n",
       "      <td>real</td>\n",
       "    </tr>\n",
       "    <tr>\n",
       "      <th>freq</th>\n",
       "      <td>20000</td>\n",
       "      <td>1</td>\n",
       "      <td>10000</td>\n",
       "    </tr>\n",
       "  </tbody>\n",
       "</table>\n",
       "</div>"
      ],
      "text/plain": [
       "       folder                                         image_path  label\n",
       "count   20000                                              20000  20000\n",
       "unique      1                                              20000      2\n",
       "top      test  ../datasets/140k_real_and_fake_faces/real_vs_f...   real\n",
       "freq    20000                                                  1  10000"
      ]
     },
     "execution_count": 11,
     "metadata": {},
     "output_type": "execute_result"
    }
   ],
   "source": [
    "image_df[image_df['folder'] == 'test'].describe()"
   ]
  },
  {
   "cell_type": "code",
   "execution_count": 12,
   "metadata": {},
   "outputs": [
    {
     "data": {
      "text/html": [
       "<div>\n",
       "<style scoped>\n",
       "    .dataframe tbody tr th:only-of-type {\n",
       "        vertical-align: middle;\n",
       "    }\n",
       "\n",
       "    .dataframe tbody tr th {\n",
       "        vertical-align: top;\n",
       "    }\n",
       "\n",
       "    .dataframe thead th {\n",
       "        text-align: right;\n",
       "    }\n",
       "</style>\n",
       "<table border=\"1\" class=\"dataframe\">\n",
       "  <thead>\n",
       "    <tr style=\"text-align: right;\">\n",
       "      <th></th>\n",
       "      <th>folder</th>\n",
       "      <th>image_path</th>\n",
       "      <th>label</th>\n",
       "    </tr>\n",
       "  </thead>\n",
       "  <tbody>\n",
       "    <tr>\n",
       "      <th>count</th>\n",
       "      <td>20000</td>\n",
       "      <td>20000</td>\n",
       "      <td>20000</td>\n",
       "    </tr>\n",
       "    <tr>\n",
       "      <th>unique</th>\n",
       "      <td>1</td>\n",
       "      <td>20000</td>\n",
       "      <td>2</td>\n",
       "    </tr>\n",
       "    <tr>\n",
       "      <th>top</th>\n",
       "      <td>valid</td>\n",
       "      <td>../datasets/140k_real_and_fake_faces/real_vs_f...</td>\n",
       "      <td>real</td>\n",
       "    </tr>\n",
       "    <tr>\n",
       "      <th>freq</th>\n",
       "      <td>20000</td>\n",
       "      <td>1</td>\n",
       "      <td>10000</td>\n",
       "    </tr>\n",
       "  </tbody>\n",
       "</table>\n",
       "</div>"
      ],
      "text/plain": [
       "       folder                                         image_path  label\n",
       "count   20000                                              20000  20000\n",
       "unique      1                                              20000      2\n",
       "top     valid  ../datasets/140k_real_and_fake_faces/real_vs_f...   real\n",
       "freq    20000                                                  1  10000"
      ]
     },
     "execution_count": 12,
     "metadata": {},
     "output_type": "execute_result"
    }
   ],
   "source": [
    "image_df[image_df['folder'] == 'valid'].describe()"
   ]
  },
  {
   "cell_type": "code",
   "execution_count": 13,
   "metadata": {},
   "outputs": [],
   "source": [
    "train_grouped_df = image_df[image_df['folder'] == 'train'].groupby('label')\n",
    "test_grouped_df = image_df[image_df['folder'] == 'test'].groupby('label')\n",
    "valid_grouped_df = image_df[image_df['folder'] == 'valid'].groupby('label')"
   ]
  },
  {
   "cell_type": "code",
   "execution_count": 14,
   "metadata": {},
   "outputs": [
    {
     "data": {
      "text/plain": [
       "label\n",
       "fake    50000\n",
       "real    50000\n",
       "dtype: int64"
      ]
     },
     "execution_count": 14,
     "metadata": {},
     "output_type": "execute_result"
    }
   ],
   "source": [
    "train_grouped_df.size()"
   ]
  },
  {
   "cell_type": "code",
   "execution_count": 15,
   "metadata": {},
   "outputs": [
    {
     "data": {
      "text/plain": [
       "label\n",
       "fake    10000\n",
       "real    10000\n",
       "dtype: int64"
      ]
     },
     "execution_count": 15,
     "metadata": {},
     "output_type": "execute_result"
    }
   ],
   "source": [
    "test_grouped_df.size()"
   ]
  },
  {
   "cell_type": "code",
   "execution_count": 16,
   "metadata": {},
   "outputs": [
    {
     "data": {
      "text/plain": [
       "label\n",
       "fake    10000\n",
       "real    10000\n",
       "dtype: int64"
      ]
     },
     "execution_count": 16,
     "metadata": {},
     "output_type": "execute_result"
    }
   ],
   "source": [
    "valid_grouped_df.size()"
   ]
  },
  {
   "cell_type": "code",
   "execution_count": 18,
   "metadata": {},
   "outputs": [],
   "source": [
    "train_gen = tf.keras.preprocessing.image.ImageDataGenerator(\n",
    "    rescale=1./255.,\n",
    "    # rotation_range=20,\n",
    "    # width_shift_range=0.2,\n",
    "    # height_shift_range=0.2,\n",
    "    # shear_range=0.2,\n",
    "    zoom_range=0.1,\n",
    "    horizontal_flip=True,\n",
    "    fill_mode='nearest'\n",
    ")\n",
    "\n",
    "valid_gen = tf.keras.preprocessing.image.ImageDataGenerator(rescale=1./255.)\n",
    "test_gen = tf.keras.preprocessing.image.ImageDataGenerator(rescale=1./255.)"
   ]
  },
  {
   "cell_type": "code",
   "execution_count": 19,
   "metadata": {},
   "outputs": [
    {
     "name": "stdout",
     "output_type": "stream",
     "text": [
      "Found 100000 images belonging to 2 classes.\n",
      "Found 20000 images belonging to 2 classes.\n",
      "Found 20000 images belonging to 2 classes.\n"
     ]
    }
   ],
   "source": [
    "train_generator = train_gen.flow_from_directory(\n",
    "    train_dir,\n",
    "    target_size=(256, 256),\n",
    "    batch_size=32,\n",
    "    class_mode='binary'\n",
    ")\n",
    "\n",
    "validation_generator = valid_gen.flow_from_directory(\n",
    "    valid_dir,\n",
    "    target_size=(256, 256),\n",
    "    batch_size=32,\n",
    "    class_mode='binary'\n",
    ")\n",
    "\n",
    "test_generator = test_gen.flow_from_directory(\n",
    "    test_dir,\n",
    "    target_size=(256, 256),\n",
    "    batch_size=32,\n",
    "    class_mode='binary'\n",
    ")"
   ]
  },
  {
   "cell_type": "code",
   "execution_count": null,
   "metadata": {},
   "outputs": [],
   "source": [
    "input_shape = (256, 256, 3)  # Change this to match your image size and channels\n",
    "flattened_input_size = input_shape[0] * input_shape[1] * input_shape[2]"
   ]
  },
  {
   "cell_type": "code",
   "execution_count": 29,
   "metadata": {},
   "outputs": [],
   "source": [
    "\n",
    "# Assuming each image is resized to 256x256 pixels and is in RGB format\n",
    "input_shape = (256, 256, 3)  # Change this to match your image size and channels\n",
    "flattened_input_size = input_shape[0] * input_shape[1] * input_shape[2]\n",
    "\n",
    "model = Sequential([\n",
    "    Flatten(input_shape=input_shape),  # Flatten the input images\n",
    "    Dense(512, activation='relu'),     # First dense layer\n",
    "    Dense(256, activation='relu'),     # Second dense layer\n",
    "    Dense(128, activation='relu'),     # Third dense layer\n",
    "    Dense(1, activation='sigmoid')     # Output layer\n",
    "])\n",
    "\n",
    "model.compile(optimizer='adam',\n",
    "              loss='binary_crossentropy',\n",
    "              metrics=['accuracy'])"
   ]
  },
  {
   "cell_type": "code",
   "execution_count": null,
   "metadata": {},
   "outputs": [],
   "source": []
  }
 ],
 "metadata": {
  "kernelspec": {
   "display_name": "Python 3 (ipykernel)",
   "language": "python",
   "name": "python3"
  },
  "language_info": {
   "codemirror_mode": {
    "name": "ipython",
    "version": 3
   },
   "file_extension": ".py",
   "mimetype": "text/x-python",
   "name": "python",
   "nbconvert_exporter": "python",
   "pygments_lexer": "ipython3",
   "version": "3.9.6"
  }
 },
 "nbformat": 4,
 "nbformat_minor": 4
}
