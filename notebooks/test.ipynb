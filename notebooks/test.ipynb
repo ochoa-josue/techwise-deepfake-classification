{
 "cells": [
  {
   "cell_type": "code",
   "execution_count": null,
   "metadata": {},
   "outputs": [],
   "source": [
    "from tensorflow.keras.models import load_model\n",
    "import numpy as np \n",
    "import tensorflow as tf\n",
    "import os\n",
    "import cv2\n",
    "import matplotlib.pyplot as plt\n",
    "import tensorflow as tf"
   ]
  },
  {
   "cell_type": "code",
   "execution_count": null,
   "metadata": {},
   "outputs": [],
   "source": [
    "# Mount Drive\n",
    "from google.colab import drive\n",
    "\n",
    "drive.mount(\"/content/gdrive\")"
   ]
  },
  {
   "cell_type": "code",
   "execution_count": null,
   "metadata": {},
   "outputs": [],
   "source": [
    "model_name = \"\"\n",
    "img_name = \"\""
   ]
  },
  {
   "cell_type": "code",
   "execution_count": null,
   "metadata": {},
   "outputs": [],
   "source": [
    "model_path = os.path.join(\"gdrive\", \"MyDrive\", \"Model\", model_name)\n",
    "img_path = os.path.join(\"gdrive\", \"MyDrive\", \"TestImages\", img_name)"
   ]
  },
  {
   "cell_type": "code",
   "execution_count": null,
   "metadata": {},
   "outputs": [],
   "source": [
    "model = load_model(model_path)"
   ]
  },
  {
   "cell_type": "code",
   "execution_count": null,
   "metadata": {},
   "outputs": [],
   "source": [
    "def img_classify(img_path):\n",
    "    img = cv2.imread(img_path)\n",
    "    img = tf.image.resize(img, (256,256))\n",
    "    plt.imshow(img.numpy().astype(int))\n",
    "    plt.show()\n",
    "\n",
    "    yhat = model.predict(np.expand_dims(img/255, 0))\n",
    "    if yhat > 0.5:\n",
    "        print(f\"It's Real: {yhat}\")\n",
    "    else:\n",
    "        print(f\"It's Fake: {yhat}\")"
   ]
  },
  {
   "cell_type": "code",
   "execution_count": null,
   "metadata": {},
   "outputs": [],
   "source": [
    "img_classify(img_path)"
   ]
  }
 ],
 "metadata": {
  "language_info": {
   "name": "python"
  }
 },
 "nbformat": 4,
 "nbformat_minor": 2
}
