{
 "cells": [
  {
   "cell_type": "code",
   "execution_count": 1,
   "metadata": {},
   "outputs": [
    {
     "name": "stderr",
     "output_type": "stream",
     "text": [
      "2024-02-13 22:51:10.960153: I tensorflow/core/util/port.cc:113] oneDNN custom operations are on. You may see slightly different numerical results due to floating-point round-off errors from different computation orders. To turn them off, set the environment variable `TF_ENABLE_ONEDNN_OPTS=0`.\n",
      "2024-02-13 22:51:10.993652: I external/local_tsl/tsl/cuda/cudart_stub.cc:31] Could not find cuda drivers on your machine, GPU will not be used.\n",
      "2024-02-13 22:51:11.191931: E external/local_xla/xla/stream_executor/cuda/cuda_dnn.cc:9261] Unable to register cuDNN factory: Attempting to register factory for plugin cuDNN when one has already been registered\n",
      "2024-02-13 22:51:11.192010: E external/local_xla/xla/stream_executor/cuda/cuda_fft.cc:607] Unable to register cuFFT factory: Attempting to register factory for plugin cuFFT when one has already been registered\n",
      "2024-02-13 22:51:11.215266: E external/local_xla/xla/stream_executor/cuda/cuda_blas.cc:1515] Unable to register cuBLAS factory: Attempting to register factory for plugin cuBLAS when one has already been registered\n",
      "2024-02-13 22:51:11.269024: I external/local_tsl/tsl/cuda/cudart_stub.cc:31] Could not find cuda drivers on your machine, GPU will not be used.\n",
      "2024-02-13 22:51:11.269942: I tensorflow/core/platform/cpu_feature_guard.cc:182] This TensorFlow binary is optimized to use available CPU instructions in performance-critical operations.\n",
      "To enable the following instructions: AVX2 AVX512F AVX512_VNNI FMA, in other operations, rebuild TensorFlow with the appropriate compiler flags.\n",
      "2024-02-13 22:51:12.254478: W tensorflow/compiler/tf2tensorrt/utils/py_utils.cc:38] TF-TRT Warning: Could not find TensorRT\n"
     ]
    }
   ],
   "source": [
    "# Importing Necessary Libraries\n",
    "import tensorflow as tf\n",
    "import numpy as np\n",
    "import matplotlib.pyplot as plt\n",
    "import os\n",
    "import cv2\n",
    "import imghdr\n",
    "from tensorflow.keras.models import Sequential\n",
    "from tensorflow.keras.layers import Conv2D, MaxPooling2D, Flatten, Dense\n",
    "from tensorflow.keras.metrics import Precision, Recall, BinaryAccuracy\n",
    "from tensorflow.keras.callbacks import EarlyStopping"
   ]
  },
  {
   "cell_type": "code",
   "execution_count": null,
   "metadata": {},
   "outputs": [],
   "source": [
    "# Mount Drive\n",
    "from google.colab import drive\n",
    "\n",
    "drive.mount(\"/content/gdrive\")"
   ]
  },
  {
   "cell_type": "code",
   "execution_count": null,
   "metadata": {},
   "outputs": [],
   "source": [
    "# Define Data Paths\n",
    "train_dir = os.path.join(data_path, 'train')\n",
    "valid_dir = os.path.join(data_path, 'valid')\n",
    "test_dir = os.path.join(data_path, 'test')"
   ]
  },
  {
   "cell_type": "code",
   "execution_count": null,
   "metadata": {},
   "outputs": [],
   "source": [
    "# Load Data\n",
    "data_train = tf.keras.utils.image_dataset_from_directory(train_dir)\n",
    "data_train = data_train.map(lambda x, y: (x/255, y))\n",
    "\n",
    "data_valid = tf.keras.utils.image_dataset_from_directory(valid_dir)\n",
    "data_valid = data_valid.map(lambda x, y: (x/255, y))\n",
    "\n",
    "data_test = tf.keras.utils.image_dataset_from_directory(test_dir)\n",
    "data_test = data_test.map(lambda x, y: (x/255, y))\n",
    "\n",
    "# Get Data Iterator\n",
    "data_iterator = data_train.as_numpy_iterator()\n",
    "batch = data_iterator.next()"
   ]
  },
  {
   "cell_type": "code",
   "execution_count": null,
   "metadata": {},
   "outputs": [],
   "source": [
    "# Print Size of Dataset\n",
    "print(f\"No. of Train Batches: {len(data_train)}\")\n",
    "print(f\"No. of Valid Batches: {len(data_valid)}\")\n",
    "print(f\"No. of Test Batches: {len(data_test)}\")"
   ]
  },
  {
   "cell_type": "code",
   "execution_count": null,
   "metadata": {},
   "outputs": [],
   "source": [
    " # Plot Example Data\n",
    "  fig, axs = plt.subplots(ncols=2, figsize=(12,12))\n",
    "\n",
    "  axs[0].imshow(batch[0][5])\n",
    "  axs[0].set_title(batch[1][5])\n",
    "\n",
    "  axs[1].imshow(batch[0][1])\n",
    "  axs[1].set_title(batch[1][1])\n",
    "\n",
    "  plt.show()"
   ]
  },
  {
   "cell_type": "code",
   "execution_count": null,
   "metadata": {},
   "outputs": [],
   "source": [
    "# Define The Model\n",
    "model = Sequential()\n",
    "\n",
    "model.add(Conv2D(16, (3,3), 1, activation=\"relu\", input_shape=(256,256,3)))\n",
    "model.add(MaxPooling2D())\n",
    "\n",
    "model.add(Conv2D(32, (3,3), 1, activation=\"relu\"))\n",
    "model.add(MaxPooling2D())\n",
    "\n",
    "model.add(Conv2D(16, (3,3), 1, activation=\"relu\"))\n",
    "model.add(MaxPooling2D())\n",
    "\n",
    "model.add(Flatten())\n",
    "\n",
    "model.add(Dense(256, activation=\"relu\"))\n",
    "model.add(Dense(1, activation=\"sigmoid\"))\n",
    "\n",
    "model.compile(optimizer=\"adam\", loss=tf.losses.BinaryCrossentropy(), metrics=[\"accuracy\"])\n",
    "\n",
    "model.summary()"
   ]
  },
  {
   "cell_type": "code",
   "execution_count": null,
   "metadata": {},
   "outputs": [],
   "source": [
    "# Define Callback\n",
    "early_stopping = EarlyStopping(monitor='val_loss',  # Metric to monitor\n",
    "                               patience=15,  # Number of epochs with no improvement after which training will be stopped\n",
    "                               verbose=1,\n",
    "                               mode='min',  # The direction is automatically inferred if not set\n",
    "                               restore_best_weights=True)  # Whether to restore model weights from the epoch with the best value of the monitored quantity"
   ]
  },
  {
   "cell_type": "code",
   "execution_count": null,
   "metadata": {},
   "outputs": [],
   "source": [
    "# Train Model\n",
    "history = model.fit(data_train,\n",
    "                    epochs=100,\n",
    "                    validation_data=data_valid,\n",
    "                    callbacks=[early_stopping])"
   ]
  },
  {
   "cell_type": "code",
   "execution_count": null,
   "metadata": {},
   "outputs": [],
   "source": [
    "# Plot Loss\n",
    "plt.figure()\n",
    "plt.plot(history.history[\"loss\"], color=\"teal\", label=\"train_loss\")\n",
    "plt.plot(history.history[\"val_loss\"], color=\"orange\", label=\"val_loss\")\n",
    "plt.suptitle(\"Loss\")\n",
    "plt.legend(loc=\"best\")\n",
    "plt.show()"
   ]
  },
  {
   "cell_type": "code",
   "execution_count": null,
   "metadata": {},
   "outputs": [],
   "source": [
    "# Metrics\n",
    "precision = Precision()\n",
    "recall = Recall()\n",
    "binary_accuracy = BinaryAccuracy()\n",
    "\n",
    "for batch in data_test.as_numpy_iterator():\n",
    "    X, y = batch\n",
    "    yhat = model.predict(X)\n",
    "    precision.update_state(y, yhat)\n",
    "    recall.update_state(y, yhat)\n",
    "    binary_accuracy.update_state(y, yhat)\n",
    "\n",
    "print(f\"Precision: {precision.result()}\")\n",
    "print(f\"Recall: {recall.result()}\")\n",
    "print(f\"Binary Accuracy: {binary_accuracy.result()}\")"
   ]
  },
  {
   "cell_type": "code",
   "execution_count": null,
   "metadata": {},
   "outputs": [],
   "source": [
    "# Function to Classify Individual Image\n",
    "def img_classify(img_path):\n",
    "    img = cv2.imread(img_path)\n",
    "    img = tf.image.resize(img, (256,256))\n",
    "    plt.imshow(img.numpy().astype(int))\n",
    "    plt.show()\n",
    "\n",
    "    yhat = model.predict(np.expand_dims(img/255, 0))\n",
    "    if yhat > 0.5:\n",
    "        print(f\"It's Real: {yhat}\")\n",
    "    else:\n",
    "        print(f\"It's Fake: {yhat}\")"
   ]
  },
  {
   "cell_type": "code",
   "execution_count": null,
   "metadata": {},
   "outputs": [],
   "source": [
    "# Save the Model\n",
    "model.save(os.path.join(model_path, \"Real_DeepFake_Classifier.h5\"))"
   ]
  }
 ],
 "metadata": {
  "kernelspec": {
   "display_name": "Python 3",
   "language": "python",
   "name": "python3"
  },
  "language_info": {
   "codemirror_mode": {
    "name": "ipython",
    "version": 3
   },
   "file_extension": ".py",
   "mimetype": "text/x-python",
   "name": "python",
   "nbconvert_exporter": "python",
   "pygments_lexer": "ipython3",
   "version": "3.10.12"
  }
 },
 "nbformat": 4,
 "nbformat_minor": 2
}
