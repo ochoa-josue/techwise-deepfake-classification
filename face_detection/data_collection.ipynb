{
 "cells": [
  {
   "cell_type": "markdown",
   "metadata": {},
   "source": [
    "<h1>Data Collection"
   ]
  },
  {
   "cell_type": "markdown",
   "metadata": {},
   "source": [
    "<h3>Install Dependencies\n"
   ]
  },
  {
   "cell_type": "markdown",
   "metadata": {},
   "source": [
    "<h3>Capture Images"
   ]
  },
  {
   "cell_type": "code",
   "execution_count": 1,
   "metadata": {},
   "outputs": [],
   "source": [
    "import os\n",
    "import time \n",
    "import uuid \n",
    "import cv2 "
   ]
  },
  {
   "cell_type": "code",
   "execution_count": 6,
   "metadata": {},
   "outputs": [],
   "source": [
    "IMAGE_PATH = os.path.join(\"data\", \"images\")\n",
    "number_images = 10"
   ]
  },
  {
   "cell_type": "code",
   "execution_count": 5,
   "metadata": {},
   "outputs": [
    {
     "name": "stdout",
     "output_type": "stream",
     "text": [
      "Collecting Image 0\n",
      "Collecting Image 1\n",
      "Collecting Image 2\n",
      "Collecting Image 3\n",
      "Collecting Image 4\n",
      "Collecting Image 5\n",
      "Collecting Image 6\n",
      "Collecting Image 7\n",
      "Collecting Image 8\n",
      "Collecting Image 9\n",
      "Collecting Image 10\n",
      "Collecting Image 11\n",
      "Collecting Image 12\n",
      "Collecting Image 13\n",
      "Collecting Image 14\n",
      "Collecting Image 15\n",
      "Collecting Image 16\n",
      "Collecting Image 17\n",
      "Collecting Image 18\n",
      "Collecting Image 19\n",
      "Collecting Image 20\n",
      "Collecting Image 21\n",
      "Collecting Image 22\n",
      "Collecting Image 23\n",
      "Collecting Image 24\n",
      "Collecting Image 25\n",
      "Collecting Image 26\n",
      "Collecting Image 27\n",
      "Collecting Image 28\n",
      "Collecting Image 29\n"
     ]
    }
   ],
   "source": [
    "cap = cv2.VideoCapture(0)\n",
    "for img_num in range(number_images):\n",
    "    print(f\"Collecting Image {img_num}\")\n",
    "    ret, frame = cap.read()\n",
    "    img_name = os.path.join(IMAGE_PATH, f\"{str(uuid.uuid1())}.jpg\")\n",
    "    cv2.imwrite(img_name, frame)\n",
    "    cv2.imshow(\"frame\", frame)\n",
    "    time.sleep(0.5)\n",
    "\n",
    "    if cv2.waitKey(1) & 0xFF == ord(\"q\"):\n",
    "        break\n",
    "cap.release()\n",
    "cv2.destroyAllWindows()\n"
   ]
  },
  {
   "cell_type": "code",
   "execution_count": null,
   "metadata": {},
   "outputs": [],
   "source": []
  }
 ],
 "metadata": {
  "accelerator": "GPU",
  "colab": {
   "authorship_tag": "ABX9TyNwBsnNAsHLhGLxkNmbbSVI",
   "gpuType": "A100",
   "machine_shape": "hm",
   "provenance": []
  },
  "kernelspec": {
   "display_name": "Python 3 (ipykernel)",
   "language": "python",
   "name": "python3"
  },
  "language_info": {
   "codemirror_mode": {
    "name": "ipython",
    "version": 3
   },
   "file_extension": ".py",
   "mimetype": "text/x-python",
   "name": "python",
   "nbconvert_exporter": "python",
   "pygments_lexer": "ipython3",
   "version": "3.10.12"
  }
 },
 "nbformat": 4,
 "nbformat_minor": 4
}
